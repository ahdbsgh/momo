{
 "cells": [
  {
   "cell_type": "code",
   "execution_count": 1,
   "id": "typical-swift",
   "metadata": {},
   "outputs": [],
   "source": [
    "a = 'John'\n",
    "b = (1, 2, 3)\n",
    "c = [1, 2, 3, 4, 5]"
   ]
  },
  {
   "cell_type": "code",
   "execution_count": 2,
   "id": "instructional-macedonia",
   "metadata": {},
   "outputs": [
    {
     "data": {
      "text/plain": [
       "'o'"
      ]
     },
     "execution_count": 2,
     "metadata": {},
     "output_type": "execute_result"
    }
   ],
   "source": [
    "a[1]"
   ]
  },
  {
   "cell_type": "code",
   "execution_count": 11,
   "id": "unavailable-flood",
   "metadata": {},
   "outputs": [
    {
     "name": "stdout",
     "output_type": "stream",
     "text": [
      "al\n"
     ]
    }
   ],
   "source": [
    "class A:\n",
    "    def al(self):\n",
    "        print('al')\n",
    "        \n",
    "class B(A):\n",
    "    def b(self):\n",
    "        print('b')\n",
    "        \n",
    "b = B()\n",
    "b.al()"
   ]
  },
  {
   "cell_type": "code",
   "execution_count": null,
   "id": "efficient-handle",
   "metadata": {},
   "outputs": [],
   "source": [
    "class Adder:\n",
    "    def __init__(self):\n",
    "        se+++"
   ]
  }
 ],
 "metadata": {
  "kernelspec": {
   "display_name": "Python 3",
   "language": "python",
   "name": "python3"
  },
  "language_info": {
   "codemirror_mode": {
    "name": "ipython",
    "version": 3
   },
   "file_extension": ".py",
   "mimetype": "text/x-python",
   "name": "python",
   "nbconvert_exporter": "python",
   "pygments_lexer": "ipython3",
   "version": "3.7.9"
  }
 },
 "nbformat": 4,
 "nbformat_minor": 5
}
